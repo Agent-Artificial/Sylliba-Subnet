{
 "cells": [
  {
   "cell_type": "code",
   "execution_count": 46,
   "id": "2b12d7e3",
   "metadata": {
    "execution": {
     "iopub.execute_input": "2024-10-17T18:42:47.581511Z",
     "iopub.status.busy": "2024-10-17T18:42:47.581157Z",
     "iopub.status.idle": "2024-10-17T18:42:52.192560Z",
     "shell.execute_reply": "2024-10-17T18:42:52.191535Z"
    },
    "papermill": {
     "duration": 4.618125,
     "end_time": "2024-10-17T18:42:52.195413",
     "exception": false,
     "start_time": "2024-10-17T18:42:47.577288",
     "status": "completed"
    },
    "tags": []
   },
   "outputs": [],
   "source": [
    "from sylliba.api.subnet_api import SubnetAPI\n",
    "from sylliba.validator import reward_text, reward_speech\n",
    "from sylliba.protocol import TranslateRequest\n",
    "from modules.translation.data_models import TranslationRequest\n",
    "from sylliba.utils.uids import get_top_miner_uids\n",
    "import bittensor as bt\n",
    "from neurons.enums.models import *\n",
    "from importlib import import_module\n",
    "from neurons.utils.serialization import audio_encode, audio_decode\n",
    "import numpy as np"
   ]
  },
  {
   "cell_type": "code",
   "execution_count": 47,
   "id": "fef41c50",
   "metadata": {
    "execution": {
     "iopub.execute_input": "2024-10-17T18:42:52.207573Z",
     "iopub.status.busy": "2024-10-17T18:42:52.207385Z",
     "iopub.status.idle": "2024-10-17T18:42:52.211540Z",
     "shell.execute_reply": "2024-10-17T18:42:52.210911Z"
    },
    "papermill": {
     "duration": 0.012797,
     "end_time": "2024-10-17T18:42:52.213743",
     "exception": false,
     "start_time": "2024-10-17T18:42:52.200946",
     "status": "completed"
    },
    "tags": []
   },
   "outputs": [],
   "source": [
    "request = {\n",
    "    \"input\": \"Hi How are you doing today?\",\n",
    "    \"task_string\": \"text2speech\",\n",
    "    \"source_language\": \"English\",\n",
    "    \"target_language\": \"French\"\n",
    "}"
   ]
  },
  {
   "cell_type": "code",
   "execution_count": 48,
   "id": "ee505397",
   "metadata": {
    "execution": {
     "iopub.execute_input": "2024-10-17T18:42:52.224101Z",
     "iopub.status.busy": "2024-10-17T18:42:52.223883Z",
     "iopub.status.idle": "2024-10-17T18:42:52.228750Z",
     "shell.execute_reply": "2024-10-17T18:42:52.227838Z"
    },
    "papermill": {
     "duration": 0.012837,
     "end_time": "2024-10-17T18:42:52.231060",
     "exception": false,
     "start_time": "2024-10-17T18:42:52.218223",
     "status": "completed"
    },
    "tags": []
   },
   "outputs": [],
   "source": [
    "translation_synapse = TranslateRequest(translation_request = TranslationRequest(data = request))"
   ]
  },
  {
   "cell_type": "code",
   "execution_count": 49,
   "id": "d12fc76a",
   "metadata": {
    "execution": {
     "iopub.execute_input": "2024-10-17T18:42:52.241435Z",
     "iopub.status.busy": "2024-10-17T18:42:52.241146Z",
     "iopub.status.idle": "2024-10-17T18:42:52.249277Z",
     "shell.execute_reply": "2024-10-17T18:42:52.248009Z"
    },
    "papermill": {
     "duration": 0.016116,
     "end_time": "2024-10-17T18:42:52.251680",
     "exception": false,
     "start_time": "2024-10-17T18:42:52.235564",
     "status": "completed"
    },
    "tags": []
   },
   "outputs": [],
   "source": [
    "wallet = bt.wallet('sylliba', 'validator1', '~/.bittensor/wallets/')"
   ]
  },
  {
   "cell_type": "code",
   "execution_count": null,
   "id": "b875a00c",
   "metadata": {
    "execution": {
     "iopub.execute_input": "2024-10-17T18:42:52.262920Z",
     "iopub.status.busy": "2024-10-17T18:42:52.262410Z",
     "iopub.status.idle": "2024-10-17T18:42:57.852681Z",
     "shell.execute_reply": "2024-10-17T18:42:57.850004Z"
    },
    "papermill": {
     "duration": 5.599574,
     "end_time": "2024-10-17T18:42:57.855833",
     "exception": false,
     "start_time": "2024-10-17T18:42:52.256259",
     "status": "completed"
    },
    "tags": []
   },
   "outputs": [],
   "source": [
    "subtensor = bt.subtensor(network='test')\n",
    "metagraph = subtensor.metagraph(netuid = 197)\n",
    "\n",
    "miner_uids = await get_top_miner_uids(metagraph, wallet)\n",
    "miner_axons = [metagraph.axons[uid] for uid in miner_uids]\n",
    "\n",
    "print(miner_uids)"
   ]
  },
  {
   "cell_type": "code",
   "execution_count": null,
   "id": "06b2dab7",
   "metadata": {
    "execution": {
     "iopub.execute_input": "2024-10-17T18:42:57.870045Z",
     "iopub.status.busy": "2024-10-17T18:42:57.869488Z",
     "iopub.status.idle": "2024-10-17T18:43:00.137290Z",
     "shell.execute_reply": "2024-10-17T18:43:00.135738Z"
    },
    "papermill": {
     "duration": 2.279586,
     "end_time": "2024-10-17T18:43:00.141442",
     "exception": false,
     "start_time": "2024-10-17T18:42:57.861856",
     "status": "completed"
    },
    "tags": []
   },
   "outputs": [],
   "source": [
    "subnet_api = SubnetAPI(wallet=wallet)\n",
    "\n",
    "responses = await subnet_api(\n",
    "    axons=miner_axons,\n",
    "    synapse=translation_synapse,\n",
    "    timeout=5\n",
    ")\n",
    "\n",
    "print(responses)"
   ]
  },
  {
   "cell_type": "code",
   "execution_count": 52,
   "id": "38287f84",
   "metadata": {
    "execution": {
     "iopub.execute_input": "2024-10-17T18:43:00.166757Z",
     "iopub.status.busy": "2024-10-17T18:43:00.166355Z",
     "iopub.status.idle": "2024-10-17T18:43:00.175480Z",
     "shell.execute_reply": "2024-10-17T18:43:00.173969Z"
    },
    "papermill": {
     "duration": 0.024365,
     "end_time": "2024-10-17T18:43:00.178083",
     "exception": false,
     "start_time": "2024-10-17T18:43:00.153718",
     "status": "completed"
    },
    "tags": []
   },
   "outputs": [],
   "source": [
    "def process_validator_output(miner_response, input_string, task_string):\n",
    "    if task_string.endswith('text'):\n",
    "        scores = [reward_text(miner_response, input_string, import_module(llm)) for llm in LLMS]\n",
    "    else:\n",
    "        scores = [reward_speech(miner_response, input_string, import_module(llm)) for llm in LLMS]\n",
    "    return sum(scores) / len(scores)"
   ]
  },
  {
   "cell_type": "code",
   "execution_count": null,
   "id": "36204577",
   "metadata": {
    "execution": {
     "iopub.execute_input": "2024-10-17T18:43:00.202543Z",
     "iopub.status.busy": "2024-10-17T18:43:00.202150Z",
     "iopub.status.idle": "2024-10-17T18:43:10.314005Z",
     "shell.execute_reply": "2024-10-17T18:43:10.313364Z"
    },
    "papermill": {
     "duration": 10.128301,
     "end_time": "2024-10-17T18:43:10.317721",
     "exception": false,
     "start_time": "2024-10-17T18:43:00.189420",
     "status": "completed"
    },
    "tags": []
   },
   "outputs": [],
   "source": [
    "task_string = request['task_string']\n",
    "results = []\n",
    "\n",
    "for j in range(0, len(responses)):\n",
    "    if responses[j].miner_response is not None:\n",
    "        if task_string.endswith('speech'):\n",
    "            miner_output_data = audio_decode(responses[j].miner_response)\n",
    "        else:\n",
    "            miner_output_data = responses[j].miner_response\n",
    "                    \n",
    "        results.append(\n",
    "            float(process_validator_output(\n",
    "                miner_output_data,\n",
    "                request['input'],\n",
    "                task_string\n",
    "            )) # 'numpy.float64' object cannot be interpreted as integer\n",
    "        )\n",
    "\n",
    "print(results)"
   ]
  },
  {
   "cell_type": "code",
   "execution_count": null,
   "id": "684c4c53",
   "metadata": {
    "execution": {
     "iopub.execute_input": "2024-10-17T18:43:10.353657Z",
     "iopub.status.busy": "2024-10-17T18:43:10.353468Z",
     "iopub.status.idle": "2024-10-17T18:43:10.357833Z",
     "shell.execute_reply": "2024-10-17T18:43:10.356708Z"
    },
    "papermill": {
     "duration": 0.022852,
     "end_time": "2024-10-17T18:43:10.359775",
     "exception": false,
     "start_time": "2024-10-17T18:43:10.336923",
     "status": "completed"
    },
    "tags": []
   },
   "outputs": [],
   "source": [
    "best_response = responses[np.argmax(results)]\n",
    "print(best_response)"
   ]
  }
 ],
 "metadata": {
  "kernelspec": {
   "display_name": ".venv",
   "language": "python",
   "name": "python3"
  },
  "language_info": {
   "codemirror_mode": {
    "name": "ipython",
    "version": 3
   },
   "file_extension": ".py",
   "mimetype": "text/x-python",
   "name": "python",
   "nbconvert_exporter": "python",
   "pygments_lexer": "ipython3",
   "version": "3.10.12"
  },
  "papermill": {
   "default_parameters": {},
   "duration": 26.262559,
   "end_time": "2024-10-17T18:43:12.937403",
   "environment_variables": {},
   "exception": null,
   "input_path": "test_api.ipynb",
   "output_path": "output_test_api.ipynb",
   "parameters": {},
   "start_time": "2024-10-17T18:42:46.674844",
   "version": "2.6.0"
  }
 },
 "nbformat": 4,
 "nbformat_minor": 5
}
