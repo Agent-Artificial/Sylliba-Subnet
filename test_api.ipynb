{
 "cells": [
  {
   "cell_type": "code",
   "execution_count": 9,
   "metadata": {},
   "outputs": [],
   "source": [
    "from sylliba.api.subnet_api import SubnetAPI\n",
    "from sylliba.validator import reward_text, reward_speech\n",
    "from sylliba.protocol import TranslateRequest\n",
    "from modules.translation.data_models import TranslationRequest\n",
    "from sylliba.utils.uids import get_top_miner_uids\n",
    "import bittensor as bt\n",
    "import math"
   ]
  },
  {
   "cell_type": "code",
   "execution_count": 2,
   "metadata": {},
   "outputs": [],
   "source": [
    "request = {\n",
    "    \"input\": \"Hi How are you doing today?\",\n",
    "    \"task_string\": \"text2speech\",\n",
    "    \"source_language\": \"English\",\n",
    "    \"target_language\": \"French\"\n",
    "}"
   ]
  },
  {
   "cell_type": "code",
   "execution_count": 3,
   "metadata": {},
   "outputs": [],
   "source": [
    "translation_synapse = TranslateRequest(translation_request = TranslationRequest(data = request))"
   ]
  },
  {
   "cell_type": "code",
   "execution_count": 4,
   "metadata": {},
   "outputs": [],
   "source": [
    "wallet = bt.wallet('sylliba', 'validator1', '~/.bittensor/wallets/')"
   ]
  },
  {
   "cell_type": "code",
   "execution_count": 6,
   "metadata": {},
   "outputs": [],
   "source": [
    "subtensor = bt.subtensor(network='finney')\n",
    "metagraph = subtensor.metagraph(netuid = 49)\n",
    "\n",
    "miner_uids = await get_top_miner_uids(metagraph, wallet)\n",
    "miner_axons = [metagraph.axons[uid] for uid in miner_uids]"
   ]
  },
  {
   "cell_type": "code",
   "execution_count": 7,
   "metadata": {},
   "outputs": [],
   "source": [
    "subnet_api = SubnetAPI(wallet=wallet)\n",
    "\n",
    "responses = await subnet_api(\n",
    "    axons=miner_axons,\n",
    "    synapse=translation_synapse,\n",
    "    timeout=5\n",
    ")"
   ]
  },
  {
   "cell_type": "code",
   "execution_count": 8,
   "metadata": {},
   "outputs": [],
   "source": [
    "def process_validator_output(miner_response, sample_outputs, task_string):\n",
    "    if task_string.endswith('text'):\n",
    "        scores = [reward_text(miner_response, sample_output) for sample_output in sample_outputs]\n",
    "    else:\n",
    "        scores = [reward_speech(miner_response, sample_output) for sample_output in sample_outputs]\n",
    "    return sum(scores) / len(scores)"
   ]
  },
  {
   "cell_type": "code",
   "execution_count": null,
   "metadata": {},
   "outputs": [],
   "source": [
    "task_string = request['task_string']\n",
    "results = []\n",
    "\n",
    "for j in range(0, len(responses)):\n",
    "    if responses[j].miner_response is not None:\n",
    "        if task_string.endswith('speech'):\n",
    "            miner_output_data = audio_decode(responses[j].miner_response)\n",
    "        else:\n",
    "            miner_output_data = responses[j].miner_response\n",
    "                    \n",
    "        results.append(\n",
    "            float(process_validator_output(\n",
    "                miner_output_data,\n",
    "                sample_request['output'],\n",
    "                task_string\n",
    "            )) # 'numpy.float64' object cannot be interpreted as integer\n",
    "        )"
   ]
  },
  {
   "cell_type": "code",
   "execution_count": null,
   "metadata": {},
   "outputs": [],
   "source": [
    "best_response = responses[math.argmax(results)]"
   ]
  }
 ],
 "metadata": {
  "kernelspec": {
   "display_name": ".venv",
   "language": "python",
   "name": "python3"
  },
  "language_info": {
   "codemirror_mode": {
    "name": "ipython",
    "version": 3
   },
   "file_extension": ".py",
   "mimetype": "text/x-python",
   "name": "python",
   "nbconvert_exporter": "python",
   "pygments_lexer": "ipython3",
   "version": "3.10.12"
  }
 },
 "nbformat": 4,
 "nbformat_minor": 2
}
